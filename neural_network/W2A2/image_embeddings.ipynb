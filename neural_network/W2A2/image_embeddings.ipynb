{
 "cells": [
  {
   "cell_type": "code",
   "execution_count": 1,
   "metadata": {},
   "outputs": [],
   "source": [
    "import tensorflow as tf\n",
    "import keras_tuner\n",
    "import numpy as np\n",
    "import h5py\n",
    "import tensorboard"
   ]
  },
  {
   "cell_type": "code",
   "execution_count": 2,
   "metadata": {},
   "outputs": [],
   "source": [
    "# Get the datasets\n",
    "\n",
    "def load_dataset():\n",
    "    train_dataset = h5py.File('datasets/train_catvnoncat.h5', \"r\")\n",
    "    train_set_x_orig = np.array(train_dataset[\"train_set_x\"][:]) # your train set features\n",
    "    train_set_y_orig = np.array(train_dataset[\"train_set_y\"][:]) # your train set labels\n",
    "\n",
    "    test_dataset = h5py.File('datasets/test_catvnoncat.h5', \"r\")\n",
    "    test_set_x_orig = np.array(test_dataset[\"test_set_x\"][:]) # your test set features\n",
    "    test_set_y_orig = np.array(test_dataset[\"test_set_y\"][:]) # your test set labels\n",
    "\n",
    "    classes = np.array(test_dataset[\"list_classes\"][:]) # the list of classes\n",
    "    \n",
    "    #train_set_y_orig = train_set_y_orig.reshape((1, train_set_y_orig.shape[0]))\n",
    "    #test_set_y_orig = test_set_y_orig.reshape((1, test_set_y_orig.shape[0]))\n",
    "    \n",
    "    return train_set_x_orig, train_set_y_orig, test_set_x_orig, test_set_y_orig, classes"
   ]
  },
  {
   "cell_type": "code",
   "execution_count": 6,
   "metadata": {},
   "outputs": [],
   "source": [
    "train_set_x_orig, train_set_y_orig, test_set_x_orig, test_set_y_orig, classes=load_dataset()\n",
    "x_train=train_set_x_orig\n",
    "y_train=train_set_y_orig.reshape(-1,1)\n",
    "x_test=test_set_x_orig\n",
    "y_test=test_set_y_orig.reshape(-1,1)\n",
    "\n",
    "batch_size=32\n",
    "dataset=tf.data.Dataset.from_tensor_slices((x_train, y_train)).batch(batch_size)\n",
    "eval_dataset=tf.data.Dataset.from_tensor_slices((x_test, y_test)).batch(batch_size)"
   ]
  },
  {
   "cell_type": "code",
   "execution_count": 37,
   "metadata": {},
   "outputs": [],
   "source": [
    "def define_model(input_shape:tuple=(64,64,3)):\n",
    "    '''\n",
    "    Define the deep learning model with 2 hidden layers\n",
    "    '''\n",
    "    inputs=tf.keras.Input(shape=input_shape)\n",
    "    x=tf.keras.layers.Rescaling(1.0/255)(inputs)\n",
    "    x=tf.keras.layers.Flatten()(x)\n",
    "    x=tf.keras.layers.Dense(128, activation='relu')(x)\n",
    "    x=tf.keras.layers.Dense(128, activation='relu')(x)\n",
    "    outputs=tf.keras.layers.Dense(1, activation='sigmoid')(x)\n",
    "\n",
    "    model=tf.keras.Model(inputs, outputs)\n",
    "    model.summary()\n",
    "    return model\n"
   ]
  },
  {
   "cell_type": "code",
   "execution_count": 60,
   "metadata": {},
   "outputs": [
    {
     "name": "stdout",
     "output_type": "stream",
     "text": [
      "WARNING:tensorflow:There are non-GPU devices in `tf.distribute.Strategy`, not using nccl allreduce.\n",
      "INFO:tensorflow:Using MirroredStrategy with devices ('/job:localhost/replica:0/task:0/device:CPU:0',)\n",
      "Model: \"model_8\"\n",
      "_________________________________________________________________\n",
      " Layer (type)                Output Shape              Param #   \n",
      "=================================================================\n",
      " input_12 (InputLayer)       [(None, 64, 64, 3)]       0         \n",
      "                                                                 \n",
      " rescaling_10 (Rescaling)    (None, 64, 64, 3)         0         \n",
      "                                                                 \n",
      " flatten_9 (Flatten)         (None, 12288)             0         \n",
      "                                                                 \n",
      " dense_25 (Dense)            (None, 128)               1572992   \n",
      "                                                                 \n",
      " dense_26 (Dense)            (None, 128)               16512     \n",
      "                                                                 \n",
      " dense_27 (Dense)            (None, 1)                 129       \n",
      "                                                                 \n",
      "=================================================================\n",
      "Total params: 1,589,633\n",
      "Trainable params: 1,589,633\n",
      "Non-trainable params: 0\n",
      "_________________________________________________________________\n"
     ]
    }
   ],
   "source": [
    "strategy=tf.distribute.MirroredStrategy()\n",
    "with strategy.scope():\n",
    "    model=define_model()\n",
    "    model.compile(optimizer='adam', loss='binary_crossentropy', metrics=['accuracy'])"
   ]
  },
  {
   "cell_type": "code",
   "execution_count": 7,
   "metadata": {},
   "outputs": [],
   "source": [
    "epochs=100\n",
    "batch_size=32\n",
    "\n",
    "callbacks=[tf.keras.callbacks.ModelCheckpoint(filepath='outputs/model_{epoch}', save_freq='epoch'), tf.keras.callbacks.TensorBoard(log_dir=\"./logs\")]\n",
    "#history=model.fit(dataset, epochs=epochs, validation_data=eval_dataset, callbacks=callbacks)"
   ]
  },
  {
   "cell_type": "code",
   "execution_count": 50,
   "metadata": {},
   "outputs": [
    {
     "name": "stderr",
     "output_type": "stream",
     "text": [
      "UsageError: Line magic function `%tensorboard` not found.\n"
     ]
    }
   ],
   "source": [
    "%tensorboard --logdir logs/fit"
   ]
  },
  {
   "cell_type": "code",
   "execution_count": 51,
   "metadata": {},
   "outputs": [
    {
     "name": "stdout",
     "output_type": "stream",
     "text": [
      "2/2 [==============================] - 0s 12ms/step - loss: 3.5653 - accuracy: 0.6800\n"
     ]
    },
    {
     "data": {
      "text/plain": [
       "[3.5653438568115234, 0.6800000071525574]"
      ]
     },
     "execution_count": 51,
     "metadata": {},
     "output_type": "execute_result"
    }
   ],
   "source": [
    "results=model.evaluate(eval_dataset)\n",
    "results"
   ]
  },
  {
   "cell_type": "code",
   "execution_count": 52,
   "metadata": {},
   "outputs": [
    {
     "name": "stdout",
     "output_type": "stream",
     "text": [
      "2/2 [==============================] - 0s 2ms/step\n"
     ]
    }
   ],
   "source": [
    "predictions=model.predict(eval_dataset)\n"
   ]
  },
  {
   "cell_type": "code",
   "execution_count": 57,
   "metadata": {},
   "outputs": [],
   "source": [
    "import matplotlib.pyplot as plt\n",
    "%matplotlib inline"
   ]
  },
  {
   "cell_type": "code",
   "execution_count": 59,
   "metadata": {},
   "outputs": [
    {
     "data": {
      "image/png": "[encoded data removed]",
      "text/plain": [
       "<Figure size 900x500 with 1 Axes>"
      ]
     },
     "metadata": {},
     "output_type": "display_data"
    }
   ],
   "source": [
    "plt.figure(figsize=(9,5))\n",
    "\n",
    "num_obs=predictions.shape[0]\n",
    "x=np.arange(num_obs)\n",
    "\n",
    "plt.scatter(x, predictions)\n",
    "\n",
    "plt.show()"
   ]
  },
  {
   "cell_type": "code",
   "execution_count": 83,
   "metadata": {},
   "outputs": [],
   "source": [
    "# Define, train, evaluate a deep learning model for image classification\n",
    "\n",
    "def get_model(input_shape:tuple=(64,64,3)):\n",
    "    ''' \n",
    "    Define a deap learning model\n",
    "    '''\n",
    "    inputs=tf.keras.Input(shape=input_shape)\n",
    "    x=tf.keras.layers.Rescaling(1.0/255)(inputs)\n",
    "    x=tf.keras.layers.Flatten()(x)\n",
    "    x=tf.keras.layers.Dense(128, activation='relu')(x)\n",
    "    x=tf.keras.layers.Dense(64, activation='relu')(x)\n",
    "    x=tf.keras.layers.Dense(32, activation='relu')(x)\n",
    "    x=tf.keras.layers.Dense(16, activation='relu')(x)\n",
    "    x=tf.keras.layers.Dense(8, activation='relu')(x)\n",
    "    outputs=tf.keras.layers.Dense(1, activation='sigmoid')(x)\n",
    "\n",
    "    model=tf.keras.Model(inputs, outputs)\n",
    "    model.summary()\n",
    "    return model"
   ]
  },
  {
   "cell_type": "code",
   "execution_count": 84,
   "metadata": {},
   "outputs": [
    {
     "name": "stdout",
     "output_type": "stream",
     "text": [
      "Model: \"model_12\"\n",
      "_________________________________________________________________\n",
      " Layer (type)                Output Shape              Param #   \n",
      "=================================================================\n",
      " input_18 (InputLayer)       [(None, 64, 64, 3)]       0         \n",
      "                                                                 \n",
      " rescaling_16 (Rescaling)    (None, 64, 64, 3)         0         \n",
      "                                                                 \n",
      " flatten_14 (Flatten)        (None, 12288)             0         \n",
      "                                                                 \n",
      " dense_45 (Dense)            (None, 128)               1572992   \n",
      "                                                                 \n",
      " dense_46 (Dense)            (None, 64)                8256      \n",
      "                                                                 \n",
      " dense_47 (Dense)            (None, 32)                2080      \n",
      "                                                                 \n",
      " dense_48 (Dense)            (None, 16)                528       \n",
      "                                                                 \n",
      " dense_49 (Dense)            (None, 8)                 136       \n",
      "                                                                 \n",
      " dense_50 (Dense)            (None, 1)                 9         \n",
      "                                                                 \n",
      "=================================================================\n",
      "Total params: 1,584,001\n",
      "Trainable params: 1,584,001\n",
      "Non-trainable params: 0\n",
      "_________________________________________________________________\n"
     ]
    }
   ],
   "source": [
    "model=get_model()"
   ]
  },
  {
   "cell_type": "code",
   "execution_count": 85,
   "metadata": {},
   "outputs": [],
   "source": [
    "model.compile(optimizer='adam', loss='binary_crossentropy', metrics=['accuracy'])"
   ]
  },
  {
   "cell_type": "code",
   "execution_count": 86,
   "metadata": {},
   "outputs": [
    {
     "name": "stdout",
     "output_type": "stream",
     "text": [
      "Epoch 1/200\n",
      "7/7 [==============================] - 0s 4ms/step - loss: 0.8577 - accuracy: 0.5502\n",
      "Epoch 2/200\n",
      "7/7 [==============================] - 0s 5ms/step - loss: 0.6593 - accuracy: 0.6555\n",
      "Epoch 3/200\n",
      "7/7 [==============================] - 0s 4ms/step - loss: 0.6671 - accuracy: 0.6507\n",
      "Epoch 4/200\n",
      "7/7 [==============================] - 0s 4ms/step - loss: 0.6612 - accuracy: 0.6555\n",
      "Epoch 5/200\n",
      "7/7 [==============================] - 0s 4ms/step - loss: 0.6562 - accuracy: 0.6555\n",
      "Epoch 6/200\n",
      "7/7 [==============================] - 0s 3ms/step - loss: 0.6498 - accuracy: 0.6555\n",
      "Epoch 7/200\n",
      "7/7 [==============================] - 0s 4ms/step - loss: 0.6484 - accuracy: 0.6555\n",
      "Epoch 8/200\n",
      "7/7 [==============================] - 0s 4ms/step - loss: 0.6481 - accuracy: 0.6555\n",
      "Epoch 9/200\n",
      "7/7 [==============================] - 0s 4ms/step - loss: 0.6469 - accuracy: 0.6555\n",
      "Epoch 10/200\n",
      "7/7 [==============================] - 0s 4ms/step - loss: 0.6454 - accuracy: 0.6555\n",
      "Epoch 11/200\n",
      "7/7 [==============================] - 0s 4ms/step - loss: 0.6432 - accuracy: 0.6555\n",
      "Epoch 12/200\n",
      "7/7 [==============================] - 0s 4ms/step - loss: 0.6408 - accuracy: 0.6555\n",
      "Epoch 13/200\n",
      "7/7 [==============================] - 0s 4ms/step - loss: 0.6383 - accuracy: 0.6555\n",
      "Epoch 14/200\n",
      "7/7 [==============================] - 0s 3ms/step - loss: 0.6351 - accuracy: 0.6555\n",
      "Epoch 15/200\n",
      "7/7 [==============================] - 0s 3ms/step - loss: 0.6306 - accuracy: 0.6555\n",
      "Epoch 16/200\n",
      "7/7 [==============================] - 0s 4ms/step - loss: 0.6246 - accuracy: 0.6555\n",
      "Epoch 17/200\n",
      "7/7 [==============================] - 0s 3ms/step - loss: 0.6196 - accuracy: 0.6555\n",
      "Epoch 18/200\n",
      "7/7 [==============================] - 0s 3ms/step - loss: 0.6118 - accuracy: 0.6555\n",
      "Epoch 19/200\n",
      "7/7 [==============================] - 0s 3ms/step - loss: 0.6029 - accuracy: 0.6555\n",
      "Epoch 20/200\n",
      "7/7 [==============================] - 0s 3ms/step - loss: 0.5924 - accuracy: 0.6555\n",
      "Epoch 21/200\n",
      "7/7 [==============================] - 0s 3ms/step - loss: 0.5795 - accuracy: 0.6555\n",
      "Epoch 22/200\n",
      "7/7 [==============================] - 0s 3ms/step - loss: 0.5740 - accuracy: 0.6555\n",
      "Epoch 23/200\n",
      "7/7 [==============================] - 0s 3ms/step - loss: 0.5571 - accuracy: 0.6555\n",
      "Epoch 24/200\n",
      "7/7 [==============================] - 0s 3ms/step - loss: 0.5313 - accuracy: 0.6651\n",
      "Epoch 25/200\n",
      "7/7 [==============================] - 0s 3ms/step - loss: 0.5027 - accuracy: 0.6794\n",
      "Epoch 26/200\n",
      "7/7 [==============================] - 0s 3ms/step - loss: 0.4940 - accuracy: 0.6842\n",
      "Epoch 27/200\n",
      "7/7 [==============================] - 0s 3ms/step - loss: 0.5148 - accuracy: 0.6842\n",
      "Epoch 28/200\n",
      "7/7 [==============================] - 0s 3ms/step - loss: 0.5220 - accuracy: 0.7177\n",
      "Epoch 29/200\n",
      "7/7 [==============================] - 0s 3ms/step - loss: 0.4716 - accuracy: 0.6842\n",
      "Epoch 30/200\n",
      "7/7 [==============================] - 0s 3ms/step - loss: 0.4407 - accuracy: 0.8038\n",
      "Epoch 31/200\n",
      "7/7 [==============================] - 0s 3ms/step - loss: 0.4161 - accuracy: 0.7751\n",
      "Epoch 32/200\n",
      "7/7 [==============================] - 0s 3ms/step - loss: 0.4083 - accuracy: 0.7703\n",
      "Epoch 33/200\n",
      "7/7 [==============================] - 0s 3ms/step - loss: 0.5076 - accuracy: 0.7177\n",
      "Epoch 34/200\n",
      "7/7 [==============================] - 0s 3ms/step - loss: 0.5827 - accuracy: 0.7560\n",
      "Epoch 35/200\n",
      "7/7 [==============================] - 0s 3ms/step - loss: 0.4510 - accuracy: 0.7990\n",
      "Epoch 36/200\n",
      "7/7 [==============================] - 0s 3ms/step - loss: 0.4949 - accuracy: 0.7225\n",
      "Epoch 37/200\n",
      "7/7 [==============================] - 0s 3ms/step - loss: 0.4554 - accuracy: 0.7464\n",
      "Epoch 38/200\n",
      "7/7 [==============================] - 0s 3ms/step - loss: 0.4208 - accuracy: 0.6842\n",
      "Epoch 39/200\n",
      "7/7 [==============================] - 0s 3ms/step - loss: 0.3863 - accuracy: 0.7081\n",
      "Epoch 40/200\n",
      "7/7 [==============================] - 0s 3ms/step - loss: 0.3240 - accuracy: 0.8230\n",
      "Epoch 41/200\n",
      "7/7 [==============================] - 0s 3ms/step - loss: 0.3012 - accuracy: 0.8373\n",
      "Epoch 42/200\n",
      "7/7 [==============================] - 0s 3ms/step - loss: 0.3570 - accuracy: 0.7751\n",
      "Epoch 43/200\n",
      "7/7 [==============================] - 0s 3ms/step - loss: 0.4565 - accuracy: 0.8038\n",
      "Epoch 44/200\n",
      "7/7 [==============================] - 0s 3ms/step - loss: 0.3694 - accuracy: 0.7656\n",
      "Epoch 45/200\n",
      "7/7 [==============================] - 0s 3ms/step - loss: 0.3711 - accuracy: 0.7608\n",
      "Epoch 46/200\n",
      "7/7 [==============================] - 0s 4ms/step - loss: 0.4327 - accuracy: 0.7847\n",
      "Epoch 47/200\n",
      "7/7 [==============================] - 0s 4ms/step - loss: 0.2767 - accuracy: 0.8995\n",
      "Epoch 48/200\n",
      "7/7 [==============================] - 0s 4ms/step - loss: 0.2876 - accuracy: 0.8947\n",
      "Epoch 49/200\n",
      "7/7 [==============================] - 0s 4ms/step - loss: 0.2955 - accuracy: 0.7656\n",
      "Epoch 50/200\n",
      "7/7 [==============================] - 0s 3ms/step - loss: 0.3532 - accuracy: 0.7512\n",
      "Epoch 51/200\n",
      "7/7 [==============================] - 0s 3ms/step - loss: 0.2496 - accuracy: 0.8373\n",
      "Epoch 52/200\n",
      "7/7 [==============================] - 0s 3ms/step - loss: 0.2131 - accuracy: 0.8660\n",
      "Epoch 53/200\n",
      "7/7 [==============================] - 0s 3ms/step - loss: 0.3927 - accuracy: 0.7464\n",
      "Epoch 54/200\n",
      "7/7 [==============================] - 0s 3ms/step - loss: 0.4488 - accuracy: 0.8278\n",
      "Epoch 55/200\n",
      "7/7 [==============================] - 0s 3ms/step - loss: 0.2941 - accuracy: 0.8517\n",
      "Epoch 56/200\n",
      "7/7 [==============================] - 0s 3ms/step - loss: 0.6280 - accuracy: 0.7703\n",
      "Epoch 57/200\n",
      "7/7 [==============================] - 0s 3ms/step - loss: 0.5608 - accuracy: 0.8038\n",
      "Epoch 58/200\n",
      "7/7 [==============================] - 0s 4ms/step - loss: 0.5005 - accuracy: 0.7990\n",
      "Epoch 59/200\n",
      "7/7 [==============================] - 0s 4ms/step - loss: 0.4162 - accuracy: 0.8134\n",
      "Epoch 60/200\n",
      "7/7 [==============================] - 0s 4ms/step - loss: 0.4134 - accuracy: 0.8038\n",
      "Epoch 61/200\n",
      "7/7 [==============================] - 0s 3ms/step - loss: 0.3600 - accuracy: 0.8134\n",
      "Epoch 62/200\n",
      "7/7 [==============================] - 0s 4ms/step - loss: 0.2901 - accuracy: 0.8278\n",
      "Epoch 63/200\n",
      "7/7 [==============================] - 0s 4ms/step - loss: 0.2422 - accuracy: 0.8995\n",
      "Epoch 64/200\n",
      "7/7 [==============================] - 0s 4ms/step - loss: 0.2396 - accuracy: 0.8900\n",
      "Epoch 65/200\n",
      "7/7 [==============================] - 0s 3ms/step - loss: 0.2363 - accuracy: 0.8852\n",
      "Epoch 66/200\n",
      "7/7 [==============================] - 0s 4ms/step - loss: 0.1920 - accuracy: 0.9187\n",
      "Epoch 67/200\n",
      "7/7 [==============================] - 0s 3ms/step - loss: 0.1435 - accuracy: 0.9522\n",
      "Epoch 68/200\n",
      "7/7 [==============================] - 0s 3ms/step - loss: 0.1259 - accuracy: 0.9569\n",
      "Epoch 69/200\n",
      "7/7 [==============================] - 0s 3ms/step - loss: 0.1286 - accuracy: 0.9426\n",
      "Epoch 70/200\n",
      "7/7 [==============================] - 0s 3ms/step - loss: 0.1624 - accuracy: 0.9234\n",
      "Epoch 71/200\n",
      "7/7 [==============================] - 0s 3ms/step - loss: 0.1727 - accuracy: 0.9378\n",
      "Epoch 72/200\n",
      "7/7 [==============================] - 0s 7ms/step - loss: 0.1139 - accuracy: 0.9665\n",
      "Epoch 73/200\n",
      "7/7 [==============================] - 0s 4ms/step - loss: 0.1072 - accuracy: 0.9569\n",
      "Epoch 74/200\n",
      "7/7 [==============================] - 0s 4ms/step - loss: 0.1014 - accuracy: 0.9569\n",
      "Epoch 75/200\n",
      "7/7 [==============================] - 0s 4ms/step - loss: 0.0671 - accuracy: 0.9809\n",
      "Epoch 76/200\n",
      "7/7 [==============================] - 0s 3ms/step - loss: 0.0463 - accuracy: 0.9904\n",
      "Epoch 77/200\n",
      "7/7 [==============================] - 0s 3ms/step - loss: 0.0613 - accuracy: 0.9761\n",
      "Epoch 78/200\n",
      "7/7 [==============================] - 0s 3ms/step - loss: 0.0761 - accuracy: 0.9617\n",
      "Epoch 79/200\n",
      "7/7 [==============================] - 0s 3ms/step - loss: 0.1196 - accuracy: 0.9617\n",
      "Epoch 80/200\n",
      "7/7 [==============================] - 0s 4ms/step - loss: 0.1515 - accuracy: 0.9139\n",
      "Epoch 81/200\n",
      "7/7 [==============================] - 0s 4ms/step - loss: 0.1565 - accuracy: 0.9234\n",
      "Epoch 82/200\n",
      "7/7 [==============================] - 0s 4ms/step - loss: 0.0764 - accuracy: 0.9809\n",
      "Epoch 83/200\n",
      "7/7 [==============================] - 0s 4ms/step - loss: 0.1285 - accuracy: 0.9474\n",
      "Epoch 84/200\n",
      "7/7 [==============================] - 0s 4ms/step - loss: 0.1004 - accuracy: 0.9474\n",
      "Epoch 85/200\n",
      "7/7 [==============================] - 0s 3ms/step - loss: 0.0327 - accuracy: 0.9952\n",
      "Epoch 86/200\n",
      "7/7 [==============================] - 0s 3ms/step - loss: 0.0235 - accuracy: 1.0000\n",
      "Epoch 87/200\n",
      "7/7 [==============================] - 0s 3ms/step - loss: 0.0211 - accuracy: 0.9952\n",
      "Epoch 88/200\n",
      "7/7 [==============================] - 0s 3ms/step - loss: 0.0226 - accuracy: 0.9952\n",
      "Epoch 89/200\n",
      "7/7 [==============================] - 0s 3ms/step - loss: 0.0110 - accuracy: 1.0000\n",
      "Epoch 90/200\n",
      "7/7 [==============================] - 0s 3ms/step - loss: 0.0075 - accuracy: 1.0000\n",
      "Epoch 91/200\n",
      "7/7 [==============================] - 0s 3ms/step - loss: 0.0057 - accuracy: 1.0000\n",
      "Epoch 92/200\n",
      "7/7 [==============================] - 0s 3ms/step - loss: 0.0182 - accuracy: 0.9952\n",
      "Epoch 93/200\n",
      "7/7 [==============================] - 0s 3ms/step - loss: 0.0034 - accuracy: 1.0000\n",
      "Epoch 94/200\n",
      "7/7 [==============================] - 0s 3ms/step - loss: 0.0152 - accuracy: 0.9952\n",
      "Epoch 95/200\n",
      "7/7 [==============================] - 0s 3ms/step - loss: 0.0063 - accuracy: 1.0000\n",
      "Epoch 96/200\n",
      "7/7 [==============================] - 0s 4ms/step - loss: 0.0227 - accuracy: 0.9904\n",
      "Epoch 97/200\n",
      "7/7 [==============================] - 0s 3ms/step - loss: 0.0055 - accuracy: 1.0000\n",
      "Epoch 98/200\n",
      "7/7 [==============================] - 0s 3ms/step - loss: 0.0032 - accuracy: 1.0000\n",
      "Epoch 99/200\n",
      "7/7 [==============================] - 0s 3ms/step - loss: 0.0161 - accuracy: 0.9952\n",
      "Epoch 100/200\n",
      "7/7 [==============================] - 0s 3ms/step - loss: 0.0019 - accuracy: 1.0000\n",
      "Epoch 101/200\n",
      "7/7 [==============================] - 0s 3ms/step - loss: 0.0175 - accuracy: 0.9904\n",
      "Epoch 102/200\n",
      "7/7 [==============================] - 0s 3ms/step - loss: 0.0217 - accuracy: 0.9952\n",
      "Epoch 103/200\n",
      "7/7 [==============================] - 0s 3ms/step - loss: 0.5092 - accuracy: 0.8756\n",
      "Epoch 104/200\n",
      "7/7 [==============================] - 0s 4ms/step - loss: 0.5564 - accuracy: 0.8230\n",
      "Epoch 105/200\n",
      "7/7 [==============================] - 0s 4ms/step - loss: 0.2911 - accuracy: 0.8565\n",
      "Epoch 106/200\n",
      "7/7 [==============================] - 0s 4ms/step - loss: 0.1381 - accuracy: 0.9665\n",
      "Epoch 107/200\n",
      "7/7 [==============================] - 0s 4ms/step - loss: 0.1094 - accuracy: 0.9761\n",
      "Epoch 108/200\n",
      "7/7 [==============================] - 0s 3ms/step - loss: 0.0646 - accuracy: 0.9761\n",
      "Epoch 109/200\n",
      "7/7 [==============================] - 0s 3ms/step - loss: 0.0266 - accuracy: 0.9904\n",
      "Epoch 110/200\n",
      "7/7 [==============================] - 0s 3ms/step - loss: 0.0172 - accuracy: 0.9952\n",
      "Epoch 111/200\n",
      "7/7 [==============================] - 0s 3ms/step - loss: 0.0053 - accuracy: 1.0000\n",
      "Epoch 112/200\n",
      "7/7 [==============================] - 0s 3ms/step - loss: 0.0031 - accuracy: 1.0000\n",
      "Epoch 113/200\n",
      "7/7 [==============================] - 0s 3ms/step - loss: 0.0027 - accuracy: 1.0000\n",
      "Epoch 114/200\n",
      "7/7 [==============================] - 0s 3ms/step - loss: 0.0026 - accuracy: 1.0000\n",
      "Epoch 115/200\n",
      "7/7 [==============================] - 0s 3ms/step - loss: 0.0021 - accuracy: 1.0000\n",
      "Epoch 116/200\n",
      "7/7 [==============================] - 0s 3ms/step - loss: 0.0011 - accuracy: 1.0000\n",
      "Epoch 117/200\n",
      "7/7 [==============================] - 0s 3ms/step - loss: 9.1252e-04 - accuracy: 1.0000\n",
      "Epoch 118/200\n",
      "7/7 [==============================] - 0s 3ms/step - loss: 7.5081e-04 - accuracy: 1.0000\n",
      "Epoch 119/200\n",
      "7/7 [==============================] - 0s 4ms/step - loss: 6.3352e-04 - accuracy: 1.0000\n",
      "Epoch 120/200\n",
      "7/7 [==============================] - 0s 3ms/step - loss: 5.8374e-04 - accuracy: 1.0000\n",
      "Epoch 121/200\n",
      "7/7 [==============================] - 0s 3ms/step - loss: 5.6773e-04 - accuracy: 1.0000\n",
      "Epoch 122/200\n",
      "7/7 [==============================] - 0s 3ms/step - loss: 5.1936e-04 - accuracy: 1.0000\n",
      "Epoch 123/200\n",
      "7/7 [==============================] - 0s 3ms/step - loss: 4.8582e-04 - accuracy: 1.0000\n",
      "Epoch 124/200\n",
      "7/7 [==============================] - 0s 3ms/step - loss: 4.6705e-04 - accuracy: 1.0000\n",
      "Epoch 125/200\n",
      "7/7 [==============================] - 0s 3ms/step - loss: 4.4013e-04 - accuracy: 1.0000\n",
      "Epoch 126/200\n",
      "7/7 [==============================] - 0s 3ms/step - loss: 4.2080e-04 - accuracy: 1.0000\n",
      "Epoch 127/200\n",
      "7/7 [==============================] - 0s 4ms/step - loss: 4.0052e-04 - accuracy: 1.0000\n",
      "Epoch 128/200\n",
      "7/7 [==============================] - 0s 4ms/step - loss: 3.8312e-04 - accuracy: 1.0000\n",
      "Epoch 129/200\n",
      "7/7 [==============================] - 0s 4ms/step - loss: 3.6624e-04 - accuracy: 1.0000\n",
      "Epoch 130/200\n",
      "7/7 [==============================] - 0s 4ms/step - loss: 3.2776e-04 - accuracy: 1.0000\n",
      "Epoch 131/200\n",
      "7/7 [==============================] - 0s 4ms/step - loss: 3.1264e-04 - accuracy: 1.0000\n",
      "Epoch 132/200\n",
      "7/7 [==============================] - 0s 4ms/step - loss: 2.7748e-04 - accuracy: 1.0000\n",
      "Epoch 133/200\n",
      "7/7 [==============================] - 0s 4ms/step - loss: 2.5000e-04 - accuracy: 1.0000\n",
      "Epoch 134/200\n",
      "7/7 [==============================] - 0s 4ms/step - loss: 2.3184e-04 - accuracy: 1.0000\n",
      "Epoch 135/200\n",
      "7/7 [==============================] - 0s 3ms/step - loss: 2.0445e-04 - accuracy: 1.0000\n",
      "Epoch 136/200\n",
      "7/7 [==============================] - 0s 4ms/step - loss: 1.8205e-04 - accuracy: 1.0000\n",
      "Epoch 137/200\n",
      "7/7 [==============================] - 0s 4ms/step - loss: 1.6650e-04 - accuracy: 1.0000\n",
      "Epoch 138/200\n",
      "7/7 [==============================] - 0s 4ms/step - loss: 1.5441e-04 - accuracy: 1.0000\n",
      "Epoch 139/200\n",
      "7/7 [==============================] - 0s 4ms/step - loss: 1.4438e-04 - accuracy: 1.0000\n",
      "Epoch 140/200\n",
      "7/7 [==============================] - 0s 4ms/step - loss: 1.3517e-04 - accuracy: 1.0000\n",
      "Epoch 141/200\n",
      "7/7 [==============================] - 0s 4ms/step - loss: 1.2671e-04 - accuracy: 1.0000\n",
      "Epoch 142/200\n",
      "7/7 [==============================] - 0s 4ms/step - loss: 1.1892e-04 - accuracy: 1.0000\n",
      "Epoch 143/200\n",
      "7/7 [==============================] - 0s 7ms/step - loss: 1.1191e-04 - accuracy: 1.0000\n",
      "Epoch 144/200\n",
      "7/7 [==============================] - 0s 4ms/step - loss: 1.0562e-04 - accuracy: 1.0000\n",
      "Epoch 145/200\n",
      "7/7 [==============================] - 0s 4ms/step - loss: 9.9679e-05 - accuracy: 1.0000\n",
      "Epoch 146/200\n",
      "7/7 [==============================] - 0s 5ms/step - loss: 9.4769e-05 - accuracy: 1.0000\n",
      "Epoch 147/200\n",
      "7/7 [==============================] - 0s 4ms/step - loss: 8.9476e-05 - accuracy: 1.0000\n",
      "Epoch 148/200\n",
      "7/7 [==============================] - 0s 4ms/step - loss: 8.4664e-05 - accuracy: 1.0000\n",
      "Epoch 149/200\n",
      "7/7 [==============================] - 0s 4ms/step - loss: 8.0457e-05 - accuracy: 1.0000\n",
      "Epoch 150/200\n",
      "7/7 [==============================] - 0s 4ms/step - loss: 7.6569e-05 - accuracy: 1.0000\n",
      "Epoch 151/200\n",
      "7/7 [==============================] - 0s 4ms/step - loss: 7.2912e-05 - accuracy: 1.0000\n",
      "Epoch 152/200\n",
      "7/7 [==============================] - 0s 3ms/step - loss: 6.9537e-05 - accuracy: 1.0000\n",
      "Epoch 153/200\n",
      "7/7 [==============================] - 0s 3ms/step - loss: 6.6475e-05 - accuracy: 1.0000\n",
      "Epoch 154/200\n",
      "7/7 [==============================] - 0s 3ms/step - loss: 6.3707e-05 - accuracy: 1.0000\n",
      "Epoch 155/200\n",
      "7/7 [==============================] - 0s 3ms/step - loss: 5.9229e-05 - accuracy: 1.0000\n",
      "Epoch 156/200\n",
      "7/7 [==============================] - 0s 3ms/step - loss: 5.5263e-05 - accuracy: 1.0000\n",
      "Epoch 157/200\n",
      "7/7 [==============================] - 0s 3ms/step - loss: 5.1894e-05 - accuracy: 1.0000\n",
      "Epoch 158/200\n",
      "7/7 [==============================] - 0s 3ms/step - loss: 4.9092e-05 - accuracy: 1.0000\n",
      "Epoch 159/200\n",
      "7/7 [==============================] - 0s 3ms/step - loss: 4.6505e-05 - accuracy: 1.0000\n",
      "Epoch 160/200\n",
      "7/7 [==============================] - 0s 3ms/step - loss: 4.4204e-05 - accuracy: 1.0000\n",
      "Epoch 161/200\n",
      "7/7 [==============================] - 0s 3ms/step - loss: 4.2264e-05 - accuracy: 1.0000\n",
      "Epoch 162/200\n",
      "7/7 [==============================] - 0s 3ms/step - loss: 4.0556e-05 - accuracy: 1.0000\n",
      "Epoch 163/200\n",
      "7/7 [==============================] - 0s 3ms/step - loss: 3.8944e-05 - accuracy: 1.0000\n",
      "Epoch 164/200\n",
      "7/7 [==============================] - 0s 3ms/step - loss: 3.7516e-05 - accuracy: 1.0000\n",
      "Epoch 165/200\n",
      "7/7 [==============================] - 0s 3ms/step - loss: 3.6211e-05 - accuracy: 1.0000\n",
      "Epoch 166/200\n",
      "7/7 [==============================] - 0s 3ms/step - loss: 3.5024e-05 - accuracy: 1.0000\n",
      "Epoch 167/200\n",
      "7/7 [==============================] - 0s 3ms/step - loss: 3.3891e-05 - accuracy: 1.0000\n",
      "Epoch 168/200\n",
      "7/7 [==============================] - 0s 4ms/step - loss: 3.2831e-05 - accuracy: 1.0000\n",
      "Epoch 169/200\n",
      "7/7 [==============================] - 0s 3ms/step - loss: 3.1835e-05 - accuracy: 1.0000\n",
      "Epoch 170/200\n",
      "7/7 [==============================] - 0s 4ms/step - loss: 3.0917e-05 - accuracy: 1.0000\n",
      "Epoch 171/200\n",
      "7/7 [==============================] - 0s 3ms/step - loss: 3.0041e-05 - accuracy: 1.0000\n",
      "Epoch 172/200\n",
      "7/7 [==============================] - 0s 3ms/step - loss: 2.9232e-05 - accuracy: 1.0000\n",
      "Epoch 173/200\n",
      "7/7 [==============================] - 0s 3ms/step - loss: 2.8442e-05 - accuracy: 1.0000\n",
      "Epoch 174/200\n",
      "7/7 [==============================] - 0s 3ms/step - loss: 2.7676e-05 - accuracy: 1.0000\n",
      "Epoch 175/200\n",
      "7/7 [==============================] - 0s 3ms/step - loss: 2.6897e-05 - accuracy: 1.0000\n",
      "Epoch 176/200\n",
      "7/7 [==============================] - 0s 3ms/step - loss: 2.6140e-05 - accuracy: 1.0000\n",
      "Epoch 177/200\n",
      "7/7 [==============================] - 0s 3ms/step - loss: 2.5423e-05 - accuracy: 1.0000\n",
      "Epoch 178/200\n",
      "7/7 [==============================] - 0s 3ms/step - loss: 2.4724e-05 - accuracy: 1.0000\n",
      "Epoch 179/200\n",
      "7/7 [==============================] - 0s 3ms/step - loss: 2.4086e-05 - accuracy: 1.0000\n",
      "Epoch 180/200\n",
      "7/7 [==============================] - 0s 3ms/step - loss: 2.3442e-05 - accuracy: 1.0000\n",
      "Epoch 181/200\n",
      "7/7 [==============================] - 0s 3ms/step - loss: 2.2820e-05 - accuracy: 1.0000\n",
      "Epoch 182/200\n",
      "7/7 [==============================] - 0s 3ms/step - loss: 2.2228e-05 - accuracy: 1.0000\n",
      "Epoch 183/200\n",
      "7/7 [==============================] - 0s 3ms/step - loss: 2.1630e-05 - accuracy: 1.0000\n",
      "Epoch 184/200\n",
      "7/7 [==============================] - 0s 3ms/step - loss: 2.1055e-05 - accuracy: 1.0000\n",
      "Epoch 185/200\n",
      "7/7 [==============================] - 0s 3ms/step - loss: 2.0501e-05 - accuracy: 1.0000\n",
      "Epoch 186/200\n",
      "7/7 [==============================] - 0s 4ms/step - loss: 1.9958e-05 - accuracy: 1.0000\n",
      "Epoch 187/200\n",
      "7/7 [==============================] - 0s 3ms/step - loss: 1.9452e-05 - accuracy: 1.0000\n",
      "Epoch 188/200\n",
      "7/7 [==============================] - 0s 4ms/step - loss: 1.8967e-05 - accuracy: 1.0000\n",
      "Epoch 189/200\n",
      "7/7 [==============================] - 0s 3ms/step - loss: 1.8495e-05 - accuracy: 1.0000\n",
      "Epoch 190/200\n",
      "7/7 [==============================] - 0s 3ms/step - loss: 1.8022e-05 - accuracy: 1.0000\n",
      "Epoch 191/200\n",
      "7/7 [==============================] - 0s 3ms/step - loss: 1.7582e-05 - accuracy: 1.0000\n",
      "Epoch 192/200\n",
      "7/7 [==============================] - 0s 3ms/step - loss: 1.7163e-05 - accuracy: 1.0000\n",
      "Epoch 193/200\n",
      "7/7 [==============================] - 0s 3ms/step - loss: 1.6759e-05 - accuracy: 1.0000\n",
      "Epoch 194/200\n",
      "7/7 [==============================] - 0s 3ms/step - loss: 1.6381e-05 - accuracy: 1.0000\n",
      "Epoch 195/200\n",
      "7/7 [==============================] - 0s 7ms/step - loss: 1.6012e-05 - accuracy: 1.0000\n",
      "Epoch 196/200\n",
      "7/7 [==============================] - 0s 3ms/step - loss: 1.5646e-05 - accuracy: 1.0000\n",
      "Epoch 197/200\n",
      "7/7 [==============================] - 0s 3ms/step - loss: 1.5285e-05 - accuracy: 1.0000\n",
      "Epoch 198/200\n",
      "7/7 [==============================] - 0s 3ms/step - loss: 1.4943e-05 - accuracy: 1.0000\n",
      "Epoch 199/200\n",
      "7/7 [==============================] - 0s 3ms/step - loss: 1.4623e-05 - accuracy: 1.0000\n",
      "Epoch 200/200\n",
      "7/7 [==============================] - 0s 3ms/step - loss: 1.4301e-05 - accuracy: 1.0000\n"
     ]
    },
    {
     "data": {
      "text/plain": [
       "<keras.callbacks.History at 0x14dddb3d0>"
      ]
     },
     "execution_count": 86,
     "metadata": {},
     "output_type": "execute_result"
    }
   ],
   "source": [
    "epochs=200\n",
    "model.fit(dataset, epochs=epochs)"
   ]
  },
  {
   "cell_type": "code",
   "execution_count": 87,
   "metadata": {},
   "outputs": [
    {
     "name": "stdout",
     "output_type": "stream",
     "text": [
      "2/2 [==============================] - 0s 2ms/step - loss: 3.1273 - accuracy: 0.8200\n"
     ]
    }
   ],
   "source": [
    "results=model.evaluate(eval_dataset)"
   ]
  },
  {
   "cell_type": "code",
   "execution_count": 73,
   "metadata": {},
   "outputs": [
    {
     "name": "stdout",
     "output_type": "stream",
     "text": [
      "2/2 [==============================] - 0s 3ms/step\n"
     ]
    }
   ],
   "source": [
    "predictions=model.predict(eval_dataset)"
   ]
  },
  {
   "cell_type": "code",
   "execution_count": 74,
   "metadata": {},
   "outputs": [
    {
     "data": {
      "image/png": "[encoded data removed]",
      "text/plain": [
       "<Figure size 640x480 with 1 Axes>"
      ]
     },
     "metadata": {},
     "output_type": "display_data"
    }
   ],
   "source": [
    "num_obs=predictions.shape[0]\n",
    "plt.scatter(np.arange(num_obs), predictions)\n",
    "plt.show()"
   ]
  },
  {
   "cell_type": "code",
   "execution_count": 22,
   "metadata": {},
   "outputs": [],
   "source": [
    "def build_model(hp):\n",
    "    ''' \n",
    "    Generate a compile deep learning model\n",
    "    '''\n",
    "    inputs=tf.keras.Input(shape=(64,64,3))\n",
    "    x=tf.keras.layers.Rescaling(1.0/255)(inputs)\n",
    "    x=tf.keras.layers.Flatten()(x)\n",
    "    for i in range(4):\n",
    "        x=tf.keras.layers.Dense(units=hp.Int('units'+str(i), min_value=32, max_value=256, step=32), activation='relu')(x)\n",
    "    outputs=tf.keras.layers.Dense(1, activation='sigmoid')(x)\n",
    "    model=tf.keras.Model(inputs, outputs)\n",
    "    adam=tf.keras.optimizers.legacy.Adam(hp.Choice('learning_rate', values=[1e-1,1e-2,1e-3,1e-4]))\n",
    "    model.compile(optimizer=adam, loss='binary_crossentropy', metrics=['accuracy'])\n",
    "    return model"
   ]
  },
  {
   "cell_type": "code",
   "execution_count": 23,
   "metadata": {},
   "outputs": [],
   "source": [
    "tuner = keras_tuner.RandomSearch(\n",
    "    build_model,\n",
    "    objective='val_loss',\n",
    "    max_trials=100,\n",
    "    max_retries_per_trial=2,\n",
    "    directory='outputs/hp_tuner')"
   ]
  },
  {
   "cell_type": "code",
   "execution_count": 24,
   "metadata": {},
   "outputs": [
    {
     "name": "stdout",
     "output_type": "stream",
     "text": [
      "Trial 100 Complete [00h 00m 00s]\n",
      "val_loss: 0.9510513544082642\n",
      "\n",
      "Best val_loss So Far: 0.6722689867019653\n",
      "Total elapsed time: 00h 00m 49s\n",
      "INFO:tensorflow:Oracle triggered exit\n"
     ]
    }
   ],
   "source": [
    "tuner.search(dataset, validation_data=eval_dataset)"
   ]
  },
  {
   "cell_type": "code",
   "execution_count": 25,
   "metadata": {},
   "outputs": [
    {
     "name": "stdout",
     "output_type": "stream",
     "text": [
      "Results summary\n",
      "Results in outputs/hp_tuner/untitled_project\n",
      "Showing 10 best trials\n",
      "Objective(name=\"val_loss\", direction=\"min\")\n",
      "\n",
      "Trial 014 summary\n",
      "Hyperparameters:\n",
      "units0: 128\n",
      "units1: 64\n",
      "units2: 96\n",
      "units3: 32\n",
      "learning_rate: 0.0001\n",
      "Score: 0.6722689867019653\n",
      "\n",
      "Trial 061 summary\n",
      "Hyperparameters:\n",
      "units0: 32\n",
      "units1: 256\n",
      "units2: 32\n",
      "units3: 96\n",
      "learning_rate: 0.1\n",
      "Score: 0.6812006235122681\n",
      "\n",
      "Trial 058 summary\n",
      "Hyperparameters:\n",
      "units0: 64\n",
      "units1: 160\n",
      "units2: 224\n",
      "units3: 32\n",
      "learning_rate: 0.001\n",
      "Score: 0.6864553689956665\n",
      "\n",
      "Trial 019 summary\n",
      "Hyperparameters:\n",
      "units0: 32\n",
      "units1: 224\n",
      "units2: 192\n",
      "units3: 64\n",
      "learning_rate: 0.01\n",
      "Score: 0.695160448551178\n",
      "\n",
      "Trial 037 summary\n",
      "Hyperparameters:\n",
      "units0: 224\n",
      "units1: 160\n",
      "units2: 128\n",
      "units3: 96\n",
      "learning_rate: 0.1\n",
      "Score: 0.6976955533027649\n",
      "\n",
      "Trial 073 summary\n",
      "Hyperparameters:\n",
      "units0: 192\n",
      "units1: 160\n",
      "units2: 96\n",
      "units3: 96\n",
      "learning_rate: 0.0001\n",
      "Score: 0.704602062702179\n",
      "\n",
      "Trial 068 summary\n",
      "Hyperparameters:\n",
      "units0: 128\n",
      "units1: 256\n",
      "units2: 256\n",
      "units3: 32\n",
      "learning_rate: 0.001\n",
      "Score: 0.7059629559516907\n",
      "\n",
      "Trial 082 summary\n",
      "Hyperparameters:\n",
      "units0: 224\n",
      "units1: 160\n",
      "units2: 32\n",
      "units3: 32\n",
      "learning_rate: 0.0001\n",
      "Score: 0.7069863677024841\n",
      "\n",
      "Trial 066 summary\n",
      "Hyperparameters:\n",
      "units0: 64\n",
      "units1: 32\n",
      "units2: 64\n",
      "units3: 128\n",
      "learning_rate: 0.1\n",
      "Score: 0.7114588022232056\n",
      "\n",
      "Trial 063 summary\n",
      "Hyperparameters:\n",
      "units0: 256\n",
      "units1: 96\n",
      "units2: 96\n",
      "units3: 224\n",
      "learning_rate: 0.0001\n",
      "Score: 0.718858003616333\n"
     ]
    }
   ],
   "source": [
    "tuner.results_summary()"
   ]
  },
  {
   "cell_type": "code",
   "execution_count": 26,
   "metadata": {},
   "outputs": [
    {
     "name": "stdout",
     "output_type": "stream",
     "text": [
      "2/2 [==============================] - 0s 3ms/step - loss: 0.6723 - accuracy: 0.6000\n"
     ]
    },
    {
     "data": {
      "text/plain": [
       "[0.6722689867019653, 0.6000000238418579]"
      ]
     },
     "execution_count": 26,
     "metadata": {},
     "output_type": "execute_result"
    }
   ],
   "source": [
    "best_model = tuner.get_best_models()[0]\n",
    "evals=best_model.evaluate(eval_dataset)\n",
    "evals"
   ]
  },
  {
   "cell_type": "code",
   "execution_count": 31,
   "metadata": {},
   "outputs": [],
   "source": [
    "def build_model(hp):\n",
    "    ''' \n",
    "    Generate a compile deep learning model\n",
    "    '''\n",
    "    inputs=tf.keras.Input(shape=(64,64,3))\n",
    "    x=tf.keras.layers.Rescaling(1.0/255)(inputs)\n",
    "    x=tf.keras.layers.Flatten()(x)\n",
    "    x=tf.keras.layers.Dense(256, activation='relu')(x)\n",
    "    x=tf.keras.layers.Dense(128, activation='relu')(x)\n",
    "    x=tf.keras.layers.Dense(64, activation='relu')(x)\n",
    "    x=tf.keras.layers.Dense(32, activation='relu')(x)\n",
    "    x=tf.keras.layers.Dense(16, activation='relu')(x)\n",
    "    x=tf.keras.layers.Dense(8, activation='relu')(x)\n",
    "    outputs=tf.keras.layers.Dense(1, activation='sigmoid')(x)\n",
    "    model=tf.keras.Model(inputs, outputs)\n",
    "    adam=tf.keras.optimizers.legacy.Adam(hp.Choice('learning_rate', values=[1e-1,1e-2,1e-3,1e-4, 1e-5]))\n",
    "    model.compile(optimizer=adam, loss='binary_crossentropy', metrics=['accuracy'])\n",
    "    return model"
   ]
  },
  {
   "cell_type": "code",
   "execution_count": 32,
   "metadata": {},
   "outputs": [
    {
     "name": "stdout",
     "output_type": "stream",
     "text": [
      "INFO:tensorflow:Reloading Tuner from outputs/hp_tuner/untitled_project/tuner0.json\n"
     ]
    }
   ],
   "source": [
    "tuner = keras_tuner.RandomSearch(\n",
    "    build_model,\n",
    "    objective='val_loss',\n",
    "    max_trials=200,\n",
    "    max_retries_per_trial=2,\n",
    "    directory='outputs/hp_tuner')"
   ]
  },
  {
   "cell_type": "code",
   "execution_count": 33,
   "metadata": {},
   "outputs": [
    {
     "name": "stdout",
     "output_type": "stream",
     "text": [
      "Trial 200 Complete [00h 00m 01s]\n",
      "val_loss: 1.2917261123657227\n",
      "\n",
      "Best val_loss So Far: 0.6545006632804871\n",
      "Total elapsed time: 00h 01m 04s\n",
      "INFO:tensorflow:Oracle triggered exit\n"
     ]
    }
   ],
   "source": [
    "tuner.search(dataset, validation_data=eval_dataset)"
   ]
  },
  {
   "cell_type": "code",
   "execution_count": 35,
   "metadata": {},
   "outputs": [
    {
     "name": "stdout",
     "output_type": "stream",
     "text": [
      "Results summary\n",
      "Results in outputs/hp_tuner/untitled_project\n",
      "Showing 10 best trials\n",
      "Objective(name=\"val_loss\", direction=\"min\")\n",
      "\n",
      "Trial 158 summary\n",
      "Hyperparameters:\n",
      "units0: 32\n",
      "units1: 32\n",
      "units2: 64\n",
      "units3: 160\n",
      "learning_rate: 0.1\n",
      "Score: 0.6545006632804871\n",
      "\n",
      "Trial 173 summary\n",
      "Hyperparameters:\n",
      "units0: 192\n",
      "units1: 32\n",
      "units2: 192\n",
      "units3: 224\n",
      "learning_rate: 0.001\n",
      "Score: 0.659095287322998\n",
      "\n",
      "Trial 192 summary\n",
      "Hyperparameters:\n",
      "units0: 192\n",
      "units1: 64\n",
      "units2: 160\n",
      "units3: 160\n",
      "learning_rate: 0.1\n",
      "Score: 0.6601036190986633\n",
      "\n",
      "Trial 112 summary\n",
      "Hyperparameters:\n",
      "units0: 32\n",
      "units1: 160\n",
      "units2: 64\n",
      "units3: 256\n",
      "learning_rate: 0.1\n",
      "Score: 0.6629336476325989\n",
      "\n",
      "Trial 185 summary\n",
      "Hyperparameters:\n",
      "units0: 64\n",
      "units1: 192\n",
      "units2: 96\n",
      "units3: 64\n",
      "learning_rate: 0.1\n",
      "Score: 0.665473461151123\n",
      "\n",
      "Trial 168 summary\n",
      "Hyperparameters:\n",
      "units0: 64\n",
      "units1: 192\n",
      "units2: 256\n",
      "units3: 32\n",
      "learning_rate: 0.1\n",
      "Score: 0.6678012609481812\n",
      "\n",
      "Trial 014 summary\n",
      "Hyperparameters:\n",
      "units0: 128\n",
      "units1: 64\n",
      "units2: 96\n",
      "units3: 32\n",
      "learning_rate: 0.0001\n",
      "Score: 0.6722689867019653\n",
      "\n",
      "Trial 166 summary\n",
      "Hyperparameters:\n",
      "units0: 192\n",
      "units1: 64\n",
      "units2: 256\n",
      "units3: 224\n",
      "learning_rate: 0.0001\n",
      "Score: 0.6790984272956848\n",
      "\n",
      "Trial 061 summary\n",
      "Hyperparameters:\n",
      "units0: 32\n",
      "units1: 256\n",
      "units2: 32\n",
      "units3: 96\n",
      "learning_rate: 0.1\n",
      "Score: 0.6812006235122681\n",
      "\n",
      "Trial 109 summary\n",
      "Hyperparameters:\n",
      "units0: 160\n",
      "units1: 192\n",
      "units2: 128\n",
      "units3: 128\n",
      "learning_rate: 0.1\n",
      "Score: 0.6845845580101013\n"
     ]
    }
   ],
   "source": [
    "tuner.results_summary()"
   ]
  },
  {
   "cell_type": "code",
   "execution_count": 36,
   "metadata": {},
   "outputs": [
    {
     "name": "stdout",
     "output_type": "stream",
     "text": [
      "2/2 [==============================] - 0s 4ms/step - loss: 0.6545 - accuracy: 0.6600\n"
     ]
    },
    {
     "data": {
      "text/plain": [
       "[0.6545006632804871, 0.6600000262260437]"
      ]
     },
     "execution_count": 36,
     "metadata": {},
     "output_type": "execute_result"
    }
   ],
   "source": [
    "best_model=tuner.get_best_models()[0]\n",
    "\n",
    "evals=best_model.evaluate(eval_dataset)\n",
    "evals"
   ]
  },
  {
   "cell_type": "code",
   "execution_count": null,
   "metadata": {},
   "outputs": [],
   "source": []
  }
 ],
 "metadata": {
  "kernelspec": {
   "display_name": "env",
   "language": "python",
   "name": "python3"
  },
  "language_info": {
   "codemirror_mode": {
    "name": "ipython",
    "version": 3
   },
   "file_extension": ".py",
   "mimetype": "text/x-python",
   "name": "python",
   "nbconvert_exporter": "python",
   "pygments_lexer": "ipython3",
   "version": "3.10.12"
  },
  "orig_nbformat": 4
 },
 "nbformat": 4,
 "nbformat_minor": 2
}
